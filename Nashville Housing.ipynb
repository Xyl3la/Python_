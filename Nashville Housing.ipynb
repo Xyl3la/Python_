{
 "cells": [
  {
   "cell_type": "code",
   "execution_count": 5,
   "id": "abb59c05",
   "metadata": {},
   "outputs": [],
   "source": [
    "import pandas as pd\n",
    "from sklearn.model_selection import train_test_split\n",
    "import statsmodels.api as sm\n",
    "from statsmodels.stats.outliers_influence import variance_inflation_factor\n",
    "from sklearn import tree\n",
    "from sklearn.tree import DecisionTreeClassifier\n",
    "import matplotlib.pyplot as plt\n",
    "from sklearn.linear_model import LogisticRegression\n",
    "from sklearn import metrics\n",
    "from sklearn.metrics import accuracy_score\n",
    "import seaborn as sns\n",
    "import numpy as np\n",
    "from matplotlib import pyplot\n",
    "from sklearn.metrics import classification_report, confusion_matrix,plot_confusion_matrix"
   ]
  },
  {
   "cell_type": "code",
   "execution_count": 6,
   "id": "997b1676",
   "metadata": {},
   "outputs": [],
   "source": [
    "data = pd.read_csv(\"C:/Users/kgrat/OneDrive/Documents/ALY 6020/week 4 - Nashville_housing_data.csv\")"
   ]
  },
  {
   "cell_type": "code",
   "execution_count": 7,
   "id": "c72601b4",
   "metadata": {},
   "outputs": [
    {
     "data": {
      "text/plain": [
       "(22651, 26)"
      ]
     },
     "execution_count": 7,
     "metadata": {},
     "output_type": "execute_result"
    }
   ],
   "source": [
    "data.shape"
   ]
  },
  {
   "cell_type": "code",
   "execution_count": 8,
   "id": "a4dcde73",
   "metadata": {},
   "outputs": [
    {
     "data": {
      "text/html": [
       "<div>\n",
       "<style scoped>\n",
       "    .dataframe tbody tr th:only-of-type {\n",
       "        vertical-align: middle;\n",
       "    }\n",
       "\n",
       "    .dataframe tbody tr th {\n",
       "        vertical-align: top;\n",
       "    }\n",
       "\n",
       "    .dataframe thead th {\n",
       "        text-align: right;\n",
       "    }\n",
       "</style>\n",
       "<table border=\"1\" class=\"dataframe\">\n",
       "  <thead>\n",
       "    <tr style=\"text-align: right;\">\n",
       "      <th></th>\n",
       "      <th>Unnamed: 0</th>\n",
       "      <th>Parcel ID</th>\n",
       "      <th>Land Use</th>\n",
       "      <th>Property Address</th>\n",
       "      <th>Suite/ Condo   #</th>\n",
       "      <th>Property City</th>\n",
       "      <th>Sale Date</th>\n",
       "      <th>Legal Reference</th>\n",
       "      <th>Sold As Vacant</th>\n",
       "      <th>Multiple Parcels Involved in Sale</th>\n",
       "      <th>...</th>\n",
       "      <th>Building Value</th>\n",
       "      <th>Finished Area</th>\n",
       "      <th>Foundation Type</th>\n",
       "      <th>Year Built</th>\n",
       "      <th>Exterior Wall</th>\n",
       "      <th>Grade</th>\n",
       "      <th>Bedrooms</th>\n",
       "      <th>Full Bath</th>\n",
       "      <th>Half Bath</th>\n",
       "      <th>Sale Price Compared To Value</th>\n",
       "    </tr>\n",
       "  </thead>\n",
       "  <tbody>\n",
       "    <tr>\n",
       "      <th>0</th>\n",
       "      <td>1</td>\n",
       "      <td>105 11 0 080.00</td>\n",
       "      <td>SINGLE FAMILY</td>\n",
       "      <td>1802  STEWART PL</td>\n",
       "      <td>NaN</td>\n",
       "      <td>NASHVILLE</td>\n",
       "      <td>1/11/2013</td>\n",
       "      <td>20130118-0006337</td>\n",
       "      <td>No</td>\n",
       "      <td>No</td>\n",
       "      <td>...</td>\n",
       "      <td>134400</td>\n",
       "      <td>1149.00000</td>\n",
       "      <td>PT BSMT</td>\n",
       "      <td>1941</td>\n",
       "      <td>BRICK</td>\n",
       "      <td>C</td>\n",
       "      <td>2.0</td>\n",
       "      <td>1.0</td>\n",
       "      <td>0.0</td>\n",
       "      <td>Over</td>\n",
       "    </tr>\n",
       "    <tr>\n",
       "      <th>1</th>\n",
       "      <td>2</td>\n",
       "      <td>118 03 0 130.00</td>\n",
       "      <td>SINGLE FAMILY</td>\n",
       "      <td>2761  ROSEDALE PL</td>\n",
       "      <td>NaN</td>\n",
       "      <td>NASHVILLE</td>\n",
       "      <td>1/18/2013</td>\n",
       "      <td>20130124-0008033</td>\n",
       "      <td>No</td>\n",
       "      <td>No</td>\n",
       "      <td>...</td>\n",
       "      <td>157800</td>\n",
       "      <td>2090.82495</td>\n",
       "      <td>SLAB</td>\n",
       "      <td>2000</td>\n",
       "      <td>BRICK/FRAME</td>\n",
       "      <td>C</td>\n",
       "      <td>3.0</td>\n",
       "      <td>2.0</td>\n",
       "      <td>1.0</td>\n",
       "      <td>Over</td>\n",
       "    </tr>\n",
       "    <tr>\n",
       "      <th>2</th>\n",
       "      <td>3</td>\n",
       "      <td>119 01 0 479.00</td>\n",
       "      <td>SINGLE FAMILY</td>\n",
       "      <td>224  PEACHTREE ST</td>\n",
       "      <td>NaN</td>\n",
       "      <td>NASHVILLE</td>\n",
       "      <td>1/18/2013</td>\n",
       "      <td>20130128-0008863</td>\n",
       "      <td>No</td>\n",
       "      <td>No</td>\n",
       "      <td>...</td>\n",
       "      <td>243700</td>\n",
       "      <td>2145.60001</td>\n",
       "      <td>FULL BSMT</td>\n",
       "      <td>1948</td>\n",
       "      <td>BRICK/FRAME</td>\n",
       "      <td>B</td>\n",
       "      <td>4.0</td>\n",
       "      <td>2.0</td>\n",
       "      <td>0.0</td>\n",
       "      <td>Under</td>\n",
       "    </tr>\n",
       "    <tr>\n",
       "      <th>3</th>\n",
       "      <td>4</td>\n",
       "      <td>119 05 0 186.00</td>\n",
       "      <td>SINGLE FAMILY</td>\n",
       "      <td>316  LUTIE ST</td>\n",
       "      <td>NaN</td>\n",
       "      <td>NASHVILLE</td>\n",
       "      <td>1/23/2013</td>\n",
       "      <td>20130131-0009929</td>\n",
       "      <td>No</td>\n",
       "      <td>No</td>\n",
       "      <td>...</td>\n",
       "      <td>138100</td>\n",
       "      <td>1969.00000</td>\n",
       "      <td>CRAWL</td>\n",
       "      <td>1910</td>\n",
       "      <td>FRAME</td>\n",
       "      <td>C</td>\n",
       "      <td>2.0</td>\n",
       "      <td>1.0</td>\n",
       "      <td>0.0</td>\n",
       "      <td>Under</td>\n",
       "    </tr>\n",
       "    <tr>\n",
       "      <th>4</th>\n",
       "      <td>5</td>\n",
       "      <td>119 05 0 387.00</td>\n",
       "      <td>SINGLE FAMILY</td>\n",
       "      <td>2626  FOSTER AVE</td>\n",
       "      <td>NaN</td>\n",
       "      <td>NASHVILLE</td>\n",
       "      <td>1/4/2013</td>\n",
       "      <td>20130118-0006110</td>\n",
       "      <td>No</td>\n",
       "      <td>No</td>\n",
       "      <td>...</td>\n",
       "      <td>86100</td>\n",
       "      <td>1037.00000</td>\n",
       "      <td>CRAWL</td>\n",
       "      <td>1945</td>\n",
       "      <td>FRAME</td>\n",
       "      <td>C</td>\n",
       "      <td>2.0</td>\n",
       "      <td>1.0</td>\n",
       "      <td>0.0</td>\n",
       "      <td>Under</td>\n",
       "    </tr>\n",
       "    <tr>\n",
       "      <th>5</th>\n",
       "      <td>7</td>\n",
       "      <td>119 13 0 183.00</td>\n",
       "      <td>SINGLE FAMILY</td>\n",
       "      <td>501  MORTON AVE</td>\n",
       "      <td>NaN</td>\n",
       "      <td>NASHVILLE</td>\n",
       "      <td>1/15/2013</td>\n",
       "      <td>20130115-0004888</td>\n",
       "      <td>No</td>\n",
       "      <td>No</td>\n",
       "      <td>...</td>\n",
       "      <td>68100</td>\n",
       "      <td>1216.00000</td>\n",
       "      <td>CRAWL</td>\n",
       "      <td>1932</td>\n",
       "      <td>FRAME</td>\n",
       "      <td>D</td>\n",
       "      <td>2.0</td>\n",
       "      <td>1.0</td>\n",
       "      <td>0.0</td>\n",
       "      <td>Under</td>\n",
       "    </tr>\n",
       "    <tr>\n",
       "      <th>6</th>\n",
       "      <td>8</td>\n",
       "      <td>119 13 0 183.00</td>\n",
       "      <td>SINGLE FAMILY</td>\n",
       "      <td>501  MORTON AVE</td>\n",
       "      <td>NaN</td>\n",
       "      <td>NASHVILLE</td>\n",
       "      <td>1/25/2013</td>\n",
       "      <td>20130128-0008950</td>\n",
       "      <td>No</td>\n",
       "      <td>No</td>\n",
       "      <td>...</td>\n",
       "      <td>68100</td>\n",
       "      <td>1216.00000</td>\n",
       "      <td>CRAWL</td>\n",
       "      <td>1932</td>\n",
       "      <td>FRAME</td>\n",
       "      <td>D</td>\n",
       "      <td>2.0</td>\n",
       "      <td>1.0</td>\n",
       "      <td>0.0</td>\n",
       "      <td>Under</td>\n",
       "    </tr>\n",
       "    <tr>\n",
       "      <th>7</th>\n",
       "      <td>9</td>\n",
       "      <td>119 15 0 158.00</td>\n",
       "      <td>SINGLE FAMILY</td>\n",
       "      <td>113  NEESE DR</td>\n",
       "      <td>NaN</td>\n",
       "      <td>NASHVILLE</td>\n",
       "      <td>1/9/2013</td>\n",
       "      <td>20130111-0003850</td>\n",
       "      <td>No</td>\n",
       "      <td>No</td>\n",
       "      <td>...</td>\n",
       "      <td>57100</td>\n",
       "      <td>1152.00000</td>\n",
       "      <td>CRAWL</td>\n",
       "      <td>1945</td>\n",
       "      <td>FRAME</td>\n",
       "      <td>C</td>\n",
       "      <td>2.0</td>\n",
       "      <td>1.0</td>\n",
       "      <td>0.0</td>\n",
       "      <td>Under</td>\n",
       "    </tr>\n",
       "    <tr>\n",
       "      <th>8</th>\n",
       "      <td>10</td>\n",
       "      <td>133 07 0 195.00</td>\n",
       "      <td>SINGLE FAMILY</td>\n",
       "      <td>184  WHEELER AVE</td>\n",
       "      <td>NaN</td>\n",
       "      <td>NASHVILLE</td>\n",
       "      <td>1/18/2013</td>\n",
       "      <td>20130123-0007357</td>\n",
       "      <td>No</td>\n",
       "      <td>No</td>\n",
       "      <td>...</td>\n",
       "      <td>80100</td>\n",
       "      <td>1300.00000</td>\n",
       "      <td>CRAWL</td>\n",
       "      <td>1955</td>\n",
       "      <td>BRICK</td>\n",
       "      <td>C</td>\n",
       "      <td>2.0</td>\n",
       "      <td>1.0</td>\n",
       "      <td>0.0</td>\n",
       "      <td>Under</td>\n",
       "    </tr>\n",
       "    <tr>\n",
       "      <th>9</th>\n",
       "      <td>11</td>\n",
       "      <td>133 12 0 153.00</td>\n",
       "      <td>SINGLE FAMILY</td>\n",
       "      <td>238  ELYSIAN FIELDS RD</td>\n",
       "      <td>NaN</td>\n",
       "      <td>NASHVILLE</td>\n",
       "      <td>1/11/2013</td>\n",
       "      <td>20130115-0004796</td>\n",
       "      <td>No</td>\n",
       "      <td>No</td>\n",
       "      <td>...</td>\n",
       "      <td>87900</td>\n",
       "      <td>1175.00000</td>\n",
       "      <td>CRAWL</td>\n",
       "      <td>1968</td>\n",
       "      <td>BRICK</td>\n",
       "      <td>C</td>\n",
       "      <td>3.0</td>\n",
       "      <td>1.0</td>\n",
       "      <td>1.0</td>\n",
       "      <td>Under</td>\n",
       "    </tr>\n",
       "  </tbody>\n",
       "</table>\n",
       "<p>10 rows × 26 columns</p>\n",
       "</div>"
      ],
      "text/plain": [
       "   Unnamed: 0        Parcel ID       Land Use        Property Address  \\\n",
       "0           1  105 11 0 080.00  SINGLE FAMILY        1802  STEWART PL   \n",
       "1           2  118 03 0 130.00  SINGLE FAMILY       2761  ROSEDALE PL   \n",
       "2           3  119 01 0 479.00  SINGLE FAMILY       224  PEACHTREE ST   \n",
       "3           4  119 05 0 186.00  SINGLE FAMILY           316  LUTIE ST   \n",
       "4           5  119 05 0 387.00  SINGLE FAMILY        2626  FOSTER AVE   \n",
       "5           7  119 13 0 183.00  SINGLE FAMILY         501  MORTON AVE   \n",
       "6           8  119 13 0 183.00  SINGLE FAMILY         501  MORTON AVE   \n",
       "7           9  119 15 0 158.00  SINGLE FAMILY           113  NEESE DR   \n",
       "8          10  133 07 0 195.00  SINGLE FAMILY        184  WHEELER AVE   \n",
       "9          11  133 12 0 153.00  SINGLE FAMILY  238  ELYSIAN FIELDS RD   \n",
       "\n",
       "   Suite/ Condo   # Property City  Sale Date   Legal Reference Sold As Vacant  \\\n",
       "0               NaN     NASHVILLE  1/11/2013  20130118-0006337             No   \n",
       "1               NaN     NASHVILLE  1/18/2013  20130124-0008033             No   \n",
       "2               NaN     NASHVILLE  1/18/2013  20130128-0008863             No   \n",
       "3               NaN     NASHVILLE  1/23/2013  20130131-0009929             No   \n",
       "4               NaN     NASHVILLE   1/4/2013  20130118-0006110             No   \n",
       "5               NaN     NASHVILLE  1/15/2013  20130115-0004888             No   \n",
       "6               NaN     NASHVILLE  1/25/2013  20130128-0008950             No   \n",
       "7               NaN     NASHVILLE   1/9/2013  20130111-0003850             No   \n",
       "8               NaN     NASHVILLE  1/18/2013  20130123-0007357             No   \n",
       "9               NaN     NASHVILLE  1/11/2013  20130115-0004796             No   \n",
       "\n",
       "  Multiple Parcels Involved in Sale  ... Building Value Finished Area  \\\n",
       "0                                No  ...         134400    1149.00000   \n",
       "1                                No  ...         157800    2090.82495   \n",
       "2                                No  ...         243700    2145.60001   \n",
       "3                                No  ...         138100    1969.00000   \n",
       "4                                No  ...          86100    1037.00000   \n",
       "5                                No  ...          68100    1216.00000   \n",
       "6                                No  ...          68100    1216.00000   \n",
       "7                                No  ...          57100    1152.00000   \n",
       "8                                No  ...          80100    1300.00000   \n",
       "9                                No  ...          87900    1175.00000   \n",
       "\n",
       "   Foundation Type Year Built  Exterior Wall  Grade  Bedrooms  Full Bath  \\\n",
       "0          PT BSMT       1941          BRICK   C          2.0        1.0   \n",
       "1             SLAB       2000    BRICK/FRAME   C          3.0        2.0   \n",
       "2        FULL BSMT       1948    BRICK/FRAME   B          4.0        2.0   \n",
       "3            CRAWL       1910          FRAME   C          2.0        1.0   \n",
       "4            CRAWL       1945          FRAME   C          2.0        1.0   \n",
       "5            CRAWL       1932          FRAME   D          2.0        1.0   \n",
       "6            CRAWL       1932          FRAME   D          2.0        1.0   \n",
       "7            CRAWL       1945          FRAME   C          2.0        1.0   \n",
       "8            CRAWL       1955          BRICK   C          2.0        1.0   \n",
       "9            CRAWL       1968          BRICK   C          3.0        1.0   \n",
       "\n",
       "  Half Bath  Sale Price Compared To Value  \n",
       "0       0.0                          Over  \n",
       "1       1.0                          Over  \n",
       "2       0.0                         Under  \n",
       "3       0.0                         Under  \n",
       "4       0.0                         Under  \n",
       "5       0.0                         Under  \n",
       "6       0.0                         Under  \n",
       "7       0.0                         Under  \n",
       "8       0.0                         Under  \n",
       "9       1.0                         Under  \n",
       "\n",
       "[10 rows x 26 columns]"
      ]
     },
     "execution_count": 8,
     "metadata": {},
     "output_type": "execute_result"
    }
   ],
   "source": [
    "data.head(10)"
   ]
  },
  {
   "cell_type": "code",
   "execution_count": 9,
   "id": "6522faea",
   "metadata": {},
   "outputs": [],
   "source": [
    "data.columns = ['Unnamed: 0', 'Parcel_ID', 'Land_Use', 'Property_Address',\n",
    "       'Suite/Condo', 'Property_City', 'Sale_Date', 'Legal_Reference',\n",
    "       'Sold_As_Vacant', 'Multiple_Parcels_Involved_in_Sale', 'City', 'State',\n",
    "       'Acreage', 'Tax_District', 'Neighborhood', 'Land_Value',\n",
    "       'Building_Value', 'Finished_Area', 'Foundation_Type', 'Year_Built',\n",
    "       'Exterior_Wall', 'Grade', 'Bedrooms', 'Full_Bath', 'Half_Bath',\n",
    "       'Sale_Price_Compared_To_Value']"
   ]
  },
  {
   "cell_type": "code",
   "execution_count": 10,
   "id": "965aec70",
   "metadata": {
    "scrolled": true
   },
   "outputs": [
    {
     "name": "stdout",
     "output_type": "stream",
     "text": [
      "<class 'pandas.core.frame.DataFrame'>\n",
      "RangeIndex: 22651 entries, 0 to 22650\n",
      "Data columns (total 26 columns):\n",
      " #   Column                             Non-Null Count  Dtype  \n",
      "---  ------                             --------------  -----  \n",
      " 0   Unnamed: 0                         22651 non-null  int64  \n",
      " 1   Parcel_ID                          22651 non-null  object \n",
      " 2   Land_Use                           22651 non-null  object \n",
      " 3   Property_Address                   22649 non-null  object \n",
      " 4   Suite/Condo                        0 non-null      float64\n",
      " 5   Property_City                      22649 non-null  object \n",
      " 6   Sale_Date                          22651 non-null  object \n",
      " 7   Legal_Reference                    22651 non-null  object \n",
      " 8   Sold_As_Vacant                     22651 non-null  object \n",
      " 9   Multiple_Parcels_Involved_in_Sale  22651 non-null  object \n",
      " 10  City                               22651 non-null  object \n",
      " 11  State                              22651 non-null  object \n",
      " 12  Acreage                            22651 non-null  float64\n",
      " 13  Tax_District                       22651 non-null  object \n",
      " 14  Neighborhood                       22651 non-null  int64  \n",
      " 15  Land_Value                         22651 non-null  int64  \n",
      " 16  Building_Value                     22651 non-null  int64  \n",
      " 17  Finished_Area                      22650 non-null  float64\n",
      " 18  Foundation_Type                    22650 non-null  object \n",
      " 19  Year_Built                         22651 non-null  int64  \n",
      " 20  Exterior_Wall                      22651 non-null  object \n",
      " 21  Grade                              22651 non-null  object \n",
      " 22  Bedrooms                           22648 non-null  float64\n",
      " 23  Full_Bath                          22650 non-null  float64\n",
      " 24  Half_Bath                          22543 non-null  float64\n",
      " 25  Sale_Price_Compared_To_Value       22651 non-null  object \n",
      "dtypes: float64(6), int64(5), object(15)\n",
      "memory usage: 4.5+ MB\n"
     ]
    }
   ],
   "source": [
    "data.info()"
   ]
  },
  {
   "cell_type": "code",
   "execution_count": 11,
   "id": "2f86adc8",
   "metadata": {
    "scrolled": true
   },
   "outputs": [
    {
     "data": {
      "text/plain": [
       "Unnamed: 0                               0\n",
       "Parcel_ID                                0\n",
       "Land_Use                                 0\n",
       "Property_Address                         2\n",
       "Suite/Condo                          22651\n",
       "Property_City                            2\n",
       "Sale_Date                                0\n",
       "Legal_Reference                          0\n",
       "Sold_As_Vacant                           0\n",
       "Multiple_Parcels_Involved_in_Sale        0\n",
       "City                                     0\n",
       "State                                    0\n",
       "Acreage                                  0\n",
       "Tax_District                             0\n",
       "Neighborhood                             0\n",
       "Land_Value                               0\n",
       "Building_Value                           0\n",
       "Finished_Area                            1\n",
       "Foundation_Type                          1\n",
       "Year_Built                               0\n",
       "Exterior_Wall                            0\n",
       "Grade                                    0\n",
       "Bedrooms                                 3\n",
       "Full_Bath                                1\n",
       "Half_Bath                              108\n",
       "Sale_Price_Compared_To_Value             0\n",
       "dtype: int64"
      ]
     },
     "execution_count": 11,
     "metadata": {},
     "output_type": "execute_result"
    }
   ],
   "source": [
    "data.isna().sum()"
   ]
  },
  {
   "cell_type": "code",
   "execution_count": 12,
   "id": "3b35e26b",
   "metadata": {
    "scrolled": false
   },
   "outputs": [
    {
     "data": {
      "text/plain": [
       "Unnamed: 0                               0\n",
       "Parcel_ID                                0\n",
       "Land_Use                                 0\n",
       "Property_Address                         2\n",
       "Suite/Condo                          22651\n",
       "Property_City                            2\n",
       "Sale_Date                                0\n",
       "Legal_Reference                          0\n",
       "Sold_As_Vacant                           0\n",
       "Multiple_Parcels_Involved_in_Sale        0\n",
       "City                                     0\n",
       "State                                    0\n",
       "Acreage                                  0\n",
       "Tax_District                             0\n",
       "Neighborhood                             0\n",
       "Land_Value                               0\n",
       "Building_Value                           0\n",
       "Finished_Area                            1\n",
       "Foundation_Type                          1\n",
       "Year_Built                               0\n",
       "Exterior_Wall                            0\n",
       "Grade                                    0\n",
       "Bedrooms                                 3\n",
       "Full_Bath                                1\n",
       "Half_Bath                              108\n",
       "Sale_Price_Compared_To_Value             0\n",
       "dtype: int64"
      ]
     },
     "execution_count": 12,
     "metadata": {},
     "output_type": "execute_result"
    }
   ],
   "source": [
    "data.isnull().sum()"
   ]
  },
  {
   "cell_type": "code",
   "execution_count": 13,
   "id": "5cead257",
   "metadata": {
    "scrolled": true
   },
   "outputs": [],
   "source": [
    "data =data.drop('Suite/Condo',axis = 1)"
   ]
  },
  {
   "cell_type": "code",
   "execution_count": 14,
   "id": "97f9a655",
   "metadata": {},
   "outputs": [],
   "source": [
    "df = pd.DataFrame(data)"
   ]
  },
  {
   "cell_type": "code",
   "execution_count": 15,
   "id": "947df6c6",
   "metadata": {},
   "outputs": [
    {
     "data": {
      "text/plain": [
       "Unnamed: 0                             0\n",
       "Parcel_ID                              0\n",
       "Land_Use                               0\n",
       "Property_Address                       2\n",
       "Property_City                          2\n",
       "Sale_Date                              0\n",
       "Legal_Reference                        0\n",
       "Sold_As_Vacant                         0\n",
       "Multiple_Parcels_Involved_in_Sale      0\n",
       "City                                   0\n",
       "State                                  0\n",
       "Acreage                                0\n",
       "Tax_District                           0\n",
       "Neighborhood                           0\n",
       "Land_Value                             0\n",
       "Building_Value                         0\n",
       "Finished_Area                          1\n",
       "Foundation_Type                        1\n",
       "Year_Built                             0\n",
       "Exterior_Wall                          0\n",
       "Grade                                  0\n",
       "Bedrooms                               3\n",
       "Full_Bath                              1\n",
       "Half_Bath                            108\n",
       "Sale_Price_Compared_To_Value           0\n",
       "dtype: int64"
      ]
     },
     "execution_count": 15,
     "metadata": {},
     "output_type": "execute_result"
    }
   ],
   "source": [
    "df.isna().sum()"
   ]
  },
  {
   "cell_type": "code",
   "execution_count": 16,
   "id": "72f02982",
   "metadata": {
    "scrolled": true
   },
   "outputs": [
    {
     "data": {
      "text/plain": [
       "2.0     9263\n",
       "1.0     8906\n",
       "3.0     3137\n",
       "4.0      921\n",
       "5.0      304\n",
       "6.0       80\n",
       "7.0       15\n",
       "0.0       11\n",
       "8.0        6\n",
       "10.0       4\n",
       "9.0        3\n",
       "Name: Full_Bath, dtype: int64"
      ]
     },
     "execution_count": 16,
     "metadata": {},
     "output_type": "execute_result"
    }
   ],
   "source": [
    "df['Full_Bath'].value_counts()"
   ]
  },
  {
   "cell_type": "code",
   "execution_count": 17,
   "id": "b6210a74",
   "metadata": {},
   "outputs": [
    {
     "data": {
      "text/plain": [
       "Over     17047\n",
       "Under     5604\n",
       "Name: Sale_Price_Compared_To_Value, dtype: int64"
      ]
     },
     "execution_count": 17,
     "metadata": {},
     "output_type": "execute_result"
    }
   ],
   "source": [
    "df['Sale_Price_Compared_To_Value'].value_counts()"
   ]
  },
  {
   "cell_type": "code",
   "execution_count": 18,
   "id": "d27bf782",
   "metadata": {},
   "outputs": [
    {
     "data": {
      "text/plain": [
       "Unnamed: 0                             0\n",
       "Parcel_ID                              0\n",
       "Land_Use                               0\n",
       "Property_Address                       2\n",
       "Property_City                          2\n",
       "Sale_Date                              0\n",
       "Legal_Reference                        0\n",
       "Sold_As_Vacant                         0\n",
       "Multiple_Parcels_Involved_in_Sale      0\n",
       "City                                   0\n",
       "State                                  0\n",
       "Acreage                                0\n",
       "Tax_District                           0\n",
       "Neighborhood                           0\n",
       "Land_Value                             0\n",
       "Building_Value                         0\n",
       "Finished_Area                          1\n",
       "Foundation_Type                        1\n",
       "Year_Built                             0\n",
       "Exterior_Wall                          0\n",
       "Grade                                  0\n",
       "Bedrooms                               3\n",
       "Full_Bath                              1\n",
       "Half_Bath                            108\n",
       "Sale_Price_Compared_To_Value           0\n",
       "dtype: int64"
      ]
     },
     "execution_count": 18,
     "metadata": {},
     "output_type": "execute_result"
    }
   ],
   "source": [
    "df.isna().sum()"
   ]
  },
  {
   "cell_type": "code",
   "execution_count": 19,
   "id": "cbe3ea08",
   "metadata": {},
   "outputs": [],
   "source": [
    "df = df.dropna(how = 'any')"
   ]
  },
  {
   "cell_type": "code",
   "execution_count": 20,
   "id": "e376d18a",
   "metadata": {
    "scrolled": true
   },
   "outputs": [
    {
     "data": {
      "text/plain": [
       "Unnamed: 0                           0\n",
       "Parcel_ID                            0\n",
       "Land_Use                             0\n",
       "Property_Address                     0\n",
       "Property_City                        0\n",
       "Sale_Date                            0\n",
       "Legal_Reference                      0\n",
       "Sold_As_Vacant                       0\n",
       "Multiple_Parcels_Involved_in_Sale    0\n",
       "City                                 0\n",
       "State                                0\n",
       "Acreage                              0\n",
       "Tax_District                         0\n",
       "Neighborhood                         0\n",
       "Land_Value                           0\n",
       "Building_Value                       0\n",
       "Finished_Area                        0\n",
       "Foundation_Type                      0\n",
       "Year_Built                           0\n",
       "Exterior_Wall                        0\n",
       "Grade                                0\n",
       "Bedrooms                             0\n",
       "Full_Bath                            0\n",
       "Half_Bath                            0\n",
       "Sale_Price_Compared_To_Value         0\n",
       "dtype: int64"
      ]
     },
     "execution_count": 20,
     "metadata": {},
     "output_type": "execute_result"
    }
   ],
   "source": [
    "df.isna().sum()"
   ]
  },
  {
   "cell_type": "code",
   "execution_count": 21,
   "id": "4a13e588",
   "metadata": {},
   "outputs": [],
   "source": [
    "df['Sale_Price_Compared_To_Value']=df['Sale_Price_Compared_To_Value'].replace(\"Under\",0).replace(\"Over\",1) "
   ]
  },
  {
   "cell_type": "code",
   "execution_count": 22,
   "id": "f5866e85",
   "metadata": {},
   "outputs": [],
   "source": [
    "df = df.drop(columns=(['Unnamed: 0','Parcel_ID','Sale_Date','Property_Address']),axis =1)"
   ]
  },
  {
   "cell_type": "code",
   "execution_count": 25,
   "id": "d34fdd76",
   "metadata": {},
   "outputs": [],
   "source": [
    "c = df.corr()"
   ]
  },
  {
   "cell_type": "code",
   "execution_count": 26,
   "id": "6b6fd59d",
   "metadata": {},
   "outputs": [],
   "source": [
    "mask = np.triu(np.ones_like(df.corr(), dtype=bool))"
   ]
  },
  {
   "cell_type": "code",
   "execution_count": 27,
   "id": "1325986c",
   "metadata": {
    "scrolled": true
   },
   "outputs": [
    {
     "data": {
      "text/plain": [
       "<AxesSubplot:>"
      ]
     },
     "execution_count": 27,
     "metadata": {},
     "output_type": "execute_result"
    },
    {
     "data": {
      "image/png": "[encoded data removed]",
      "text/plain": [
       "<Figure size 1008x1008 with 2 Axes>"
      ]
     },
     "metadata": {
      "needs_background": "light"
     },
     "output_type": "display_data"
    }
   ],
   "source": [
    "plt.figure(figsize=((14,14)))\n",
    "sns.heatmap(c,annot=True, mask=mask, vmin=-1, vmax=1)"
   ]
  },
  {
   "cell_type": "code",
   "execution_count": 28,
   "id": "73fbcd09",
   "metadata": {},
   "outputs": [
    {
     "data": {
      "text/plain": [
       "TN    22536\n",
       "Name: State, dtype: int64"
      ]
     },
     "execution_count": 28,
     "metadata": {},
     "output_type": "execute_result"
    }
   ],
   "source": [
    "df['State'].value_counts()"
   ]
  },
  {
   "cell_type": "code",
   "execution_count": 29,
   "id": "02ccff4e",
   "metadata": {
    "scrolled": true
   },
   "outputs": [
    {
     "data": {
      "text/html": [
       "<div>\n",
       "<style scoped>\n",
       "    .dataframe tbody tr th:only-of-type {\n",
       "        vertical-align: middle;\n",
       "    }\n",
       "\n",
       "    .dataframe tbody tr th {\n",
       "        vertical-align: top;\n",
       "    }\n",
       "\n",
       "    .dataframe thead th {\n",
       "        text-align: right;\n",
       "    }\n",
       "</style>\n",
       "<table border=\"1\" class=\"dataframe\">\n",
       "  <thead>\n",
       "    <tr style=\"text-align: right;\">\n",
       "      <th></th>\n",
       "      <th>Land_Use</th>\n",
       "      <th>Property_City</th>\n",
       "      <th>Legal_Reference</th>\n",
       "      <th>Sold_As_Vacant</th>\n",
       "      <th>Multiple_Parcels_Involved_in_Sale</th>\n",
       "      <th>City</th>\n",
       "      <th>State</th>\n",
       "      <th>Acreage</th>\n",
       "      <th>Tax_District</th>\n",
       "      <th>Neighborhood</th>\n",
       "      <th>...</th>\n",
       "      <th>Building_Value</th>\n",
       "      <th>Finished_Area</th>\n",
       "      <th>Foundation_Type</th>\n",
       "      <th>Year_Built</th>\n",
       "      <th>Exterior_Wall</th>\n",
       "      <th>Grade</th>\n",
       "      <th>Bedrooms</th>\n",
       "      <th>Full_Bath</th>\n",
       "      <th>Half_Bath</th>\n",
       "      <th>Sale_Price_Compared_To_Value</th>\n",
       "    </tr>\n",
       "  </thead>\n",
       "  <tbody>\n",
       "    <tr>\n",
       "      <th>0</th>\n",
       "      <td>SINGLE FAMILY</td>\n",
       "      <td>NASHVILLE</td>\n",
       "      <td>20130118-0006337</td>\n",
       "      <td>No</td>\n",
       "      <td>No</td>\n",
       "      <td>NASHVILLE</td>\n",
       "      <td>TN</td>\n",
       "      <td>0.17</td>\n",
       "      <td>URBAN SERVICES DISTRICT</td>\n",
       "      <td>3127</td>\n",
       "      <td>...</td>\n",
       "      <td>134400</td>\n",
       "      <td>1149.00000</td>\n",
       "      <td>PT BSMT</td>\n",
       "      <td>1941</td>\n",
       "      <td>BRICK</td>\n",
       "      <td>C</td>\n",
       "      <td>2.0</td>\n",
       "      <td>1.0</td>\n",
       "      <td>0.0</td>\n",
       "      <td>1</td>\n",
       "    </tr>\n",
       "    <tr>\n",
       "      <th>1</th>\n",
       "      <td>SINGLE FAMILY</td>\n",
       "      <td>NASHVILLE</td>\n",
       "      <td>20130124-0008033</td>\n",
       "      <td>No</td>\n",
       "      <td>No</td>\n",
       "      <td>NASHVILLE</td>\n",
       "      <td>TN</td>\n",
       "      <td>0.11</td>\n",
       "      <td>CITY OF BERRY HILL</td>\n",
       "      <td>9126</td>\n",
       "      <td>...</td>\n",
       "      <td>157800</td>\n",
       "      <td>2090.82495</td>\n",
       "      <td>SLAB</td>\n",
       "      <td>2000</td>\n",
       "      <td>BRICK/FRAME</td>\n",
       "      <td>C</td>\n",
       "      <td>3.0</td>\n",
       "      <td>2.0</td>\n",
       "      <td>1.0</td>\n",
       "      <td>1</td>\n",
       "    </tr>\n",
       "    <tr>\n",
       "      <th>2</th>\n",
       "      <td>SINGLE FAMILY</td>\n",
       "      <td>NASHVILLE</td>\n",
       "      <td>20130128-0008863</td>\n",
       "      <td>No</td>\n",
       "      <td>No</td>\n",
       "      <td>NASHVILLE</td>\n",
       "      <td>TN</td>\n",
       "      <td>0.17</td>\n",
       "      <td>URBAN SERVICES DISTRICT</td>\n",
       "      <td>3130</td>\n",
       "      <td>...</td>\n",
       "      <td>243700</td>\n",
       "      <td>2145.60001</td>\n",
       "      <td>FULL BSMT</td>\n",
       "      <td>1948</td>\n",
       "      <td>BRICK/FRAME</td>\n",
       "      <td>B</td>\n",
       "      <td>4.0</td>\n",
       "      <td>2.0</td>\n",
       "      <td>0.0</td>\n",
       "      <td>0</td>\n",
       "    </tr>\n",
       "    <tr>\n",
       "      <th>3</th>\n",
       "      <td>SINGLE FAMILY</td>\n",
       "      <td>NASHVILLE</td>\n",
       "      <td>20130131-0009929</td>\n",
       "      <td>No</td>\n",
       "      <td>No</td>\n",
       "      <td>NASHVILLE</td>\n",
       "      <td>TN</td>\n",
       "      <td>0.34</td>\n",
       "      <td>URBAN SERVICES DISTRICT</td>\n",
       "      <td>3130</td>\n",
       "      <td>...</td>\n",
       "      <td>138100</td>\n",
       "      <td>1969.00000</td>\n",
       "      <td>CRAWL</td>\n",
       "      <td>1910</td>\n",
       "      <td>FRAME</td>\n",
       "      <td>C</td>\n",
       "      <td>2.0</td>\n",
       "      <td>1.0</td>\n",
       "      <td>0.0</td>\n",
       "      <td>0</td>\n",
       "    </tr>\n",
       "    <tr>\n",
       "      <th>4</th>\n",
       "      <td>SINGLE FAMILY</td>\n",
       "      <td>NASHVILLE</td>\n",
       "      <td>20130118-0006110</td>\n",
       "      <td>No</td>\n",
       "      <td>No</td>\n",
       "      <td>NASHVILLE</td>\n",
       "      <td>TN</td>\n",
       "      <td>0.17</td>\n",
       "      <td>URBAN SERVICES DISTRICT</td>\n",
       "      <td>3130</td>\n",
       "      <td>...</td>\n",
       "      <td>86100</td>\n",
       "      <td>1037.00000</td>\n",
       "      <td>CRAWL</td>\n",
       "      <td>1945</td>\n",
       "      <td>FRAME</td>\n",
       "      <td>C</td>\n",
       "      <td>2.0</td>\n",
       "      <td>1.0</td>\n",
       "      <td>0.0</td>\n",
       "      <td>0</td>\n",
       "    </tr>\n",
       "    <tr>\n",
       "      <th>...</th>\n",
       "      <td>...</td>\n",
       "      <td>...</td>\n",
       "      <td>...</td>\n",
       "      <td>...</td>\n",
       "      <td>...</td>\n",
       "      <td>...</td>\n",
       "      <td>...</td>\n",
       "      <td>...</td>\n",
       "      <td>...</td>\n",
       "      <td>...</td>\n",
       "      <td>...</td>\n",
       "      <td>...</td>\n",
       "      <td>...</td>\n",
       "      <td>...</td>\n",
       "      <td>...</td>\n",
       "      <td>...</td>\n",
       "      <td>...</td>\n",
       "      <td>...</td>\n",
       "      <td>...</td>\n",
       "      <td>...</td>\n",
       "      <td>...</td>\n",
       "    </tr>\n",
       "    <tr>\n",
       "      <th>22632</th>\n",
       "      <td>SINGLE FAMILY</td>\n",
       "      <td>NASHVILLE</td>\n",
       "      <td>20161031-0114632</td>\n",
       "      <td>No</td>\n",
       "      <td>No</td>\n",
       "      <td>NASHVILLE</td>\n",
       "      <td>TN</td>\n",
       "      <td>0.25</td>\n",
       "      <td>URBAN SERVICES DISTRICT</td>\n",
       "      <td>6028</td>\n",
       "      <td>...</td>\n",
       "      <td>104700</td>\n",
       "      <td>1911.00000</td>\n",
       "      <td>CRAWL</td>\n",
       "      <td>1972</td>\n",
       "      <td>BRICK</td>\n",
       "      <td>C</td>\n",
       "      <td>3.0</td>\n",
       "      <td>2.0</td>\n",
       "      <td>0.0</td>\n",
       "      <td>0</td>\n",
       "    </tr>\n",
       "    <tr>\n",
       "      <th>22634</th>\n",
       "      <td>SINGLE FAMILY</td>\n",
       "      <td>NASHVILLE</td>\n",
       "      <td>20161017-0109440</td>\n",
       "      <td>No</td>\n",
       "      <td>No</td>\n",
       "      <td>NASHVILLE</td>\n",
       "      <td>TN</td>\n",
       "      <td>0.25</td>\n",
       "      <td>URBAN SERVICES DISTRICT</td>\n",
       "      <td>4291</td>\n",
       "      <td>...</td>\n",
       "      <td>107300</td>\n",
       "      <td>1888.00000</td>\n",
       "      <td>CRAWL</td>\n",
       "      <td>1987</td>\n",
       "      <td>FRAME</td>\n",
       "      <td>C</td>\n",
       "      <td>3.0</td>\n",
       "      <td>3.0</td>\n",
       "      <td>0.0</td>\n",
       "      <td>1</td>\n",
       "    </tr>\n",
       "    <tr>\n",
       "      <th>22635</th>\n",
       "      <td>SINGLE FAMILY</td>\n",
       "      <td>NASHVILLE</td>\n",
       "      <td>20161006-0105547</td>\n",
       "      <td>No</td>\n",
       "      <td>No</td>\n",
       "      <td>NASHVILLE</td>\n",
       "      <td>TN</td>\n",
       "      <td>0.24</td>\n",
       "      <td>URBAN SERVICES DISTRICT</td>\n",
       "      <td>4291</td>\n",
       "      <td>...</td>\n",
       "      <td>97700</td>\n",
       "      <td>1912.00000</td>\n",
       "      <td>CRAWL</td>\n",
       "      <td>1989</td>\n",
       "      <td>FRAME</td>\n",
       "      <td>C</td>\n",
       "      <td>3.0</td>\n",
       "      <td>3.0</td>\n",
       "      <td>0.0</td>\n",
       "      <td>1</td>\n",
       "    </tr>\n",
       "    <tr>\n",
       "      <th>22649</th>\n",
       "      <td>SINGLE FAMILY</td>\n",
       "      <td>NASHVILLE</td>\n",
       "      <td>20161102-0115988</td>\n",
       "      <td>No</td>\n",
       "      <td>No</td>\n",
       "      <td>NASHVILLE</td>\n",
       "      <td>TN</td>\n",
       "      <td>0.15</td>\n",
       "      <td>URBAN SERVICES DISTRICT</td>\n",
       "      <td>126</td>\n",
       "      <td>...</td>\n",
       "      <td>204100</td>\n",
       "      <td>1637.00000</td>\n",
       "      <td>CRAWL</td>\n",
       "      <td>2004</td>\n",
       "      <td>FRAME</td>\n",
       "      <td>B</td>\n",
       "      <td>3.0</td>\n",
       "      <td>2.0</td>\n",
       "      <td>1.0</td>\n",
       "      <td>1</td>\n",
       "    </tr>\n",
       "    <tr>\n",
       "      <th>22650</th>\n",
       "      <td>SINGLE FAMILY</td>\n",
       "      <td>NASHVILLE</td>\n",
       "      <td>20161101-0115366</td>\n",
       "      <td>No</td>\n",
       "      <td>No</td>\n",
       "      <td>NASHVILLE</td>\n",
       "      <td>TN</td>\n",
       "      <td>0.19</td>\n",
       "      <td>URBAN SERVICES DISTRICT</td>\n",
       "      <td>126</td>\n",
       "      <td>...</td>\n",
       "      <td>295900</td>\n",
       "      <td>2478.00000</td>\n",
       "      <td>CRAWL</td>\n",
       "      <td>2005</td>\n",
       "      <td>FRAME</td>\n",
       "      <td>B</td>\n",
       "      <td>4.0</td>\n",
       "      <td>3.0</td>\n",
       "      <td>1.0</td>\n",
       "      <td>1</td>\n",
       "    </tr>\n",
       "  </tbody>\n",
       "</table>\n",
       "<p>17925 rows × 21 columns</p>\n",
       "</div>"
      ],
      "text/plain": [
       "            Land_Use Property_City   Legal_Reference Sold_As_Vacant  \\\n",
       "0      SINGLE FAMILY     NASHVILLE  20130118-0006337             No   \n",
       "1      SINGLE FAMILY     NASHVILLE  20130124-0008033             No   \n",
       "2      SINGLE FAMILY     NASHVILLE  20130128-0008863             No   \n",
       "3      SINGLE FAMILY     NASHVILLE  20130131-0009929             No   \n",
       "4      SINGLE FAMILY     NASHVILLE  20130118-0006110             No   \n",
       "...              ...           ...               ...            ...   \n",
       "22632  SINGLE FAMILY     NASHVILLE  20161031-0114632             No   \n",
       "22634  SINGLE FAMILY     NASHVILLE  20161017-0109440             No   \n",
       "22635  SINGLE FAMILY     NASHVILLE  20161006-0105547             No   \n",
       "22649  SINGLE FAMILY     NASHVILLE  20161102-0115988             No   \n",
       "22650  SINGLE FAMILY     NASHVILLE  20161101-0115366             No   \n",
       "\n",
       "      Multiple_Parcels_Involved_in_Sale       City State  Acreage  \\\n",
       "0                                    No  NASHVILLE    TN     0.17   \n",
       "1                                    No  NASHVILLE    TN     0.11   \n",
       "2                                    No  NASHVILLE    TN     0.17   \n",
       "3                                    No  NASHVILLE    TN     0.34   \n",
       "4                                    No  NASHVILLE    TN     0.17   \n",
       "...                                 ...        ...   ...      ...   \n",
       "22632                                No  NASHVILLE    TN     0.25   \n",
       "22634                                No  NASHVILLE    TN     0.25   \n",
       "22635                                No  NASHVILLE    TN     0.24   \n",
       "22649                                No  NASHVILLE    TN     0.15   \n",
       "22650                                No  NASHVILLE    TN     0.19   \n",
       "\n",
       "                  Tax_District  Neighborhood  ...  Building_Value  \\\n",
       "0      URBAN SERVICES DISTRICT          3127  ...          134400   \n",
       "1           CITY OF BERRY HILL          9126  ...          157800   \n",
       "2      URBAN SERVICES DISTRICT          3130  ...          243700   \n",
       "3      URBAN SERVICES DISTRICT          3130  ...          138100   \n",
       "4      URBAN SERVICES DISTRICT          3130  ...           86100   \n",
       "...                        ...           ...  ...             ...   \n",
       "22632  URBAN SERVICES DISTRICT          6028  ...          104700   \n",
       "22634  URBAN SERVICES DISTRICT          4291  ...          107300   \n",
       "22635  URBAN SERVICES DISTRICT          4291  ...           97700   \n",
       "22649  URBAN SERVICES DISTRICT           126  ...          204100   \n",
       "22650  URBAN SERVICES DISTRICT           126  ...          295900   \n",
       "\n",
       "       Finished_Area  Foundation_Type Year_Built  Exterior_Wall Grade  \\\n",
       "0         1149.00000          PT BSMT       1941          BRICK  C      \n",
       "1         2090.82495             SLAB       2000    BRICK/FRAME  C      \n",
       "2         2145.60001        FULL BSMT       1948    BRICK/FRAME  B      \n",
       "3         1969.00000            CRAWL       1910          FRAME  C      \n",
       "4         1037.00000            CRAWL       1945          FRAME  C      \n",
       "...              ...              ...        ...            ...   ...   \n",
       "22632     1911.00000            CRAWL       1972          BRICK  C      \n",
       "22634     1888.00000            CRAWL       1987          FRAME  C      \n",
       "22635     1912.00000            CRAWL       1989          FRAME  C      \n",
       "22649     1637.00000            CRAWL       2004          FRAME  B      \n",
       "22650     2478.00000            CRAWL       2005          FRAME  B      \n",
       "\n",
       "      Bedrooms  Full_Bath  Half_Bath  Sale_Price_Compared_To_Value  \n",
       "0          2.0        1.0        0.0                             1  \n",
       "1          3.0        2.0        1.0                             1  \n",
       "2          4.0        2.0        0.0                             0  \n",
       "3          2.0        1.0        0.0                             0  \n",
       "4          2.0        1.0        0.0                             0  \n",
       "...        ...        ...        ...                           ...  \n",
       "22632      3.0        2.0        0.0                             0  \n",
       "22634      3.0        3.0        0.0                             1  \n",
       "22635      3.0        3.0        0.0                             1  \n",
       "22649      3.0        2.0        1.0                             1  \n",
       "22650      4.0        3.0        1.0                             1  \n",
       "\n",
       "[17925 rows x 21 columns]"
      ]
     },
     "execution_count": 29,
     "metadata": {},
     "output_type": "execute_result"
    }
   ],
   "source": [
    "df[df['Property_City'].str.match('NASHVILLE')]"
   ]
  },
  {
   "cell_type": "code",
   "execution_count": 30,
   "id": "71158b79",
   "metadata": {},
   "outputs": [],
   "source": [
    "df = df.drop(columns=['Property_City','City','Legal_Reference','State'], axis = 1)"
   ]
  },
  {
   "cell_type": "code",
   "execution_count": 31,
   "id": "0be6bc26",
   "metadata": {},
   "outputs": [
    {
     "data": {
      "text/html": [
       "<div>\n",
       "<style scoped>\n",
       "    .dataframe tbody tr th:only-of-type {\n",
       "        vertical-align: middle;\n",
       "    }\n",
       "\n",
       "    .dataframe tbody tr th {\n",
       "        vertical-align: top;\n",
       "    }\n",
       "\n",
       "    .dataframe thead th {\n",
       "        text-align: right;\n",
       "    }\n",
       "</style>\n",
       "<table border=\"1\" class=\"dataframe\">\n",
       "  <thead>\n",
       "    <tr style=\"text-align: right;\">\n",
       "      <th></th>\n",
       "      <th>Land_Use</th>\n",
       "      <th>Sold_As_Vacant</th>\n",
       "      <th>Multiple_Parcels_Involved_in_Sale</th>\n",
       "      <th>Acreage</th>\n",
       "      <th>Tax_District</th>\n",
       "      <th>Neighborhood</th>\n",
       "      <th>Land_Value</th>\n",
       "      <th>Building_Value</th>\n",
       "      <th>Finished_Area</th>\n",
       "      <th>Foundation_Type</th>\n",
       "      <th>Year_Built</th>\n",
       "      <th>Exterior_Wall</th>\n",
       "      <th>Grade</th>\n",
       "      <th>Bedrooms</th>\n",
       "      <th>Full_Bath</th>\n",
       "      <th>Half_Bath</th>\n",
       "      <th>Sale_Price_Compared_To_Value</th>\n",
       "    </tr>\n",
       "  </thead>\n",
       "  <tbody>\n",
       "    <tr>\n",
       "      <th>0</th>\n",
       "      <td>SINGLE FAMILY</td>\n",
       "      <td>No</td>\n",
       "      <td>No</td>\n",
       "      <td>0.17</td>\n",
       "      <td>URBAN SERVICES DISTRICT</td>\n",
       "      <td>3127</td>\n",
       "      <td>32000</td>\n",
       "      <td>134400</td>\n",
       "      <td>1149.00000</td>\n",
       "      <td>PT BSMT</td>\n",
       "      <td>1941</td>\n",
       "      <td>BRICK</td>\n",
       "      <td>C</td>\n",
       "      <td>2.0</td>\n",
       "      <td>1.0</td>\n",
       "      <td>0.0</td>\n",
       "      <td>1</td>\n",
       "    </tr>\n",
       "    <tr>\n",
       "      <th>1</th>\n",
       "      <td>SINGLE FAMILY</td>\n",
       "      <td>No</td>\n",
       "      <td>No</td>\n",
       "      <td>0.11</td>\n",
       "      <td>CITY OF BERRY HILL</td>\n",
       "      <td>9126</td>\n",
       "      <td>34000</td>\n",
       "      <td>157800</td>\n",
       "      <td>2090.82495</td>\n",
       "      <td>SLAB</td>\n",
       "      <td>2000</td>\n",
       "      <td>BRICK/FRAME</td>\n",
       "      <td>C</td>\n",
       "      <td>3.0</td>\n",
       "      <td>2.0</td>\n",
       "      <td>1.0</td>\n",
       "      <td>1</td>\n",
       "    </tr>\n",
       "    <tr>\n",
       "      <th>2</th>\n",
       "      <td>SINGLE FAMILY</td>\n",
       "      <td>No</td>\n",
       "      <td>No</td>\n",
       "      <td>0.17</td>\n",
       "      <td>URBAN SERVICES DISTRICT</td>\n",
       "      <td>3130</td>\n",
       "      <td>25000</td>\n",
       "      <td>243700</td>\n",
       "      <td>2145.60001</td>\n",
       "      <td>FULL BSMT</td>\n",
       "      <td>1948</td>\n",
       "      <td>BRICK/FRAME</td>\n",
       "      <td>B</td>\n",
       "      <td>4.0</td>\n",
       "      <td>2.0</td>\n",
       "      <td>0.0</td>\n",
       "      <td>0</td>\n",
       "    </tr>\n",
       "    <tr>\n",
       "      <th>3</th>\n",
       "      <td>SINGLE FAMILY</td>\n",
       "      <td>No</td>\n",
       "      <td>No</td>\n",
       "      <td>0.34</td>\n",
       "      <td>URBAN SERVICES DISTRICT</td>\n",
       "      <td>3130</td>\n",
       "      <td>25000</td>\n",
       "      <td>138100</td>\n",
       "      <td>1969.00000</td>\n",
       "      <td>CRAWL</td>\n",
       "      <td>1910</td>\n",
       "      <td>FRAME</td>\n",
       "      <td>C</td>\n",
       "      <td>2.0</td>\n",
       "      <td>1.0</td>\n",
       "      <td>0.0</td>\n",
       "      <td>0</td>\n",
       "    </tr>\n",
       "    <tr>\n",
       "      <th>4</th>\n",
       "      <td>SINGLE FAMILY</td>\n",
       "      <td>No</td>\n",
       "      <td>No</td>\n",
       "      <td>0.17</td>\n",
       "      <td>URBAN SERVICES DISTRICT</td>\n",
       "      <td>3130</td>\n",
       "      <td>25000</td>\n",
       "      <td>86100</td>\n",
       "      <td>1037.00000</td>\n",
       "      <td>CRAWL</td>\n",
       "      <td>1945</td>\n",
       "      <td>FRAME</td>\n",
       "      <td>C</td>\n",
       "      <td>2.0</td>\n",
       "      <td>1.0</td>\n",
       "      <td>0.0</td>\n",
       "      <td>0</td>\n",
       "    </tr>\n",
       "    <tr>\n",
       "      <th>...</th>\n",
       "      <td>...</td>\n",
       "      <td>...</td>\n",
       "      <td>...</td>\n",
       "      <td>...</td>\n",
       "      <td>...</td>\n",
       "      <td>...</td>\n",
       "      <td>...</td>\n",
       "      <td>...</td>\n",
       "      <td>...</td>\n",
       "      <td>...</td>\n",
       "      <td>...</td>\n",
       "      <td>...</td>\n",
       "      <td>...</td>\n",
       "      <td>...</td>\n",
       "      <td>...</td>\n",
       "      <td>...</td>\n",
       "      <td>...</td>\n",
       "    </tr>\n",
       "    <tr>\n",
       "      <th>22646</th>\n",
       "      <td>SINGLE FAMILY</td>\n",
       "      <td>No</td>\n",
       "      <td>No</td>\n",
       "      <td>0.38</td>\n",
       "      <td>URBAN SERVICES DISTRICT</td>\n",
       "      <td>6328</td>\n",
       "      <td>25000</td>\n",
       "      <td>105000</td>\n",
       "      <td>1758.00000</td>\n",
       "      <td>CRAWL</td>\n",
       "      <td>1996</td>\n",
       "      <td>BRICK/FRAME</td>\n",
       "      <td>C</td>\n",
       "      <td>3.0</td>\n",
       "      <td>2.0</td>\n",
       "      <td>0.0</td>\n",
       "      <td>1</td>\n",
       "    </tr>\n",
       "    <tr>\n",
       "      <th>22647</th>\n",
       "      <td>SINGLE FAMILY</td>\n",
       "      <td>No</td>\n",
       "      <td>No</td>\n",
       "      <td>0.27</td>\n",
       "      <td>URBAN SERVICES DISTRICT</td>\n",
       "      <td>6328</td>\n",
       "      <td>25000</td>\n",
       "      <td>142400</td>\n",
       "      <td>2421.00000</td>\n",
       "      <td>SLAB</td>\n",
       "      <td>1996</td>\n",
       "      <td>BRICK/FRAME</td>\n",
       "      <td>C</td>\n",
       "      <td>3.0</td>\n",
       "      <td>3.0</td>\n",
       "      <td>0.0</td>\n",
       "      <td>1</td>\n",
       "    </tr>\n",
       "    <tr>\n",
       "      <th>22648</th>\n",
       "      <td>SINGLE FAMILY</td>\n",
       "      <td>No</td>\n",
       "      <td>No</td>\n",
       "      <td>0.23</td>\n",
       "      <td>URBAN SERVICES DISTRICT</td>\n",
       "      <td>6328</td>\n",
       "      <td>25000</td>\n",
       "      <td>159300</td>\n",
       "      <td>3117.00000</td>\n",
       "      <td>SLAB</td>\n",
       "      <td>1995</td>\n",
       "      <td>BRICK/FRAME</td>\n",
       "      <td>C</td>\n",
       "      <td>3.0</td>\n",
       "      <td>3.0</td>\n",
       "      <td>0.0</td>\n",
       "      <td>1</td>\n",
       "    </tr>\n",
       "    <tr>\n",
       "      <th>22649</th>\n",
       "      <td>SINGLE FAMILY</td>\n",
       "      <td>No</td>\n",
       "      <td>No</td>\n",
       "      <td>0.15</td>\n",
       "      <td>URBAN SERVICES DISTRICT</td>\n",
       "      <td>126</td>\n",
       "      <td>40000</td>\n",
       "      <td>204100</td>\n",
       "      <td>1637.00000</td>\n",
       "      <td>CRAWL</td>\n",
       "      <td>2004</td>\n",
       "      <td>FRAME</td>\n",
       "      <td>B</td>\n",
       "      <td>3.0</td>\n",
       "      <td>2.0</td>\n",
       "      <td>1.0</td>\n",
       "      <td>1</td>\n",
       "    </tr>\n",
       "    <tr>\n",
       "      <th>22650</th>\n",
       "      <td>SINGLE FAMILY</td>\n",
       "      <td>No</td>\n",
       "      <td>No</td>\n",
       "      <td>0.19</td>\n",
       "      <td>URBAN SERVICES DISTRICT</td>\n",
       "      <td>126</td>\n",
       "      <td>40000</td>\n",
       "      <td>295900</td>\n",
       "      <td>2478.00000</td>\n",
       "      <td>CRAWL</td>\n",
       "      <td>2005</td>\n",
       "      <td>FRAME</td>\n",
       "      <td>B</td>\n",
       "      <td>4.0</td>\n",
       "      <td>3.0</td>\n",
       "      <td>1.0</td>\n",
       "      <td>1</td>\n",
       "    </tr>\n",
       "  </tbody>\n",
       "</table>\n",
       "<p>22536 rows × 17 columns</p>\n",
       "</div>"
      ],
      "text/plain": [
       "            Land_Use Sold_As_Vacant Multiple_Parcels_Involved_in_Sale  \\\n",
       "0      SINGLE FAMILY             No                                No   \n",
       "1      SINGLE FAMILY             No                                No   \n",
       "2      SINGLE FAMILY             No                                No   \n",
       "3      SINGLE FAMILY             No                                No   \n",
       "4      SINGLE FAMILY             No                                No   \n",
       "...              ...            ...                               ...   \n",
       "22646  SINGLE FAMILY             No                                No   \n",
       "22647  SINGLE FAMILY             No                                No   \n",
       "22648  SINGLE FAMILY             No                                No   \n",
       "22649  SINGLE FAMILY             No                                No   \n",
       "22650  SINGLE FAMILY             No                                No   \n",
       "\n",
       "       Acreage             Tax_District  Neighborhood  Land_Value  \\\n",
       "0         0.17  URBAN SERVICES DISTRICT          3127       32000   \n",
       "1         0.11       CITY OF BERRY HILL          9126       34000   \n",
       "2         0.17  URBAN SERVICES DISTRICT          3130       25000   \n",
       "3         0.34  URBAN SERVICES DISTRICT          3130       25000   \n",
       "4         0.17  URBAN SERVICES DISTRICT          3130       25000   \n",
       "...        ...                      ...           ...         ...   \n",
       "22646     0.38  URBAN SERVICES DISTRICT          6328       25000   \n",
       "22647     0.27  URBAN SERVICES DISTRICT          6328       25000   \n",
       "22648     0.23  URBAN SERVICES DISTRICT          6328       25000   \n",
       "22649     0.15  URBAN SERVICES DISTRICT           126       40000   \n",
       "22650     0.19  URBAN SERVICES DISTRICT           126       40000   \n",
       "\n",
       "       Building_Value  Finished_Area Foundation_Type  Year_Built  \\\n",
       "0              134400     1149.00000         PT BSMT        1941   \n",
       "1              157800     2090.82495            SLAB        2000   \n",
       "2              243700     2145.60001       FULL BSMT        1948   \n",
       "3              138100     1969.00000           CRAWL        1910   \n",
       "4               86100     1037.00000           CRAWL        1945   \n",
       "...               ...            ...             ...         ...   \n",
       "22646          105000     1758.00000           CRAWL        1996   \n",
       "22647          142400     2421.00000            SLAB        1996   \n",
       "22648          159300     3117.00000            SLAB        1995   \n",
       "22649          204100     1637.00000           CRAWL        2004   \n",
       "22650          295900     2478.00000           CRAWL        2005   \n",
       "\n",
       "      Exterior_Wall Grade  Bedrooms  Full_Bath  Half_Bath  \\\n",
       "0             BRICK  C          2.0        1.0        0.0   \n",
       "1       BRICK/FRAME  C          3.0        2.0        1.0   \n",
       "2       BRICK/FRAME  B          4.0        2.0        0.0   \n",
       "3             FRAME  C          2.0        1.0        0.0   \n",
       "4             FRAME  C          2.0        1.0        0.0   \n",
       "...             ...   ...       ...        ...        ...   \n",
       "22646   BRICK/FRAME  C          3.0        2.0        0.0   \n",
       "22647   BRICK/FRAME  C          3.0        3.0        0.0   \n",
       "22648   BRICK/FRAME  C          3.0        3.0        0.0   \n",
       "22649         FRAME  B          3.0        2.0        1.0   \n",
       "22650         FRAME  B          4.0        3.0        1.0   \n",
       "\n",
       "       Sale_Price_Compared_To_Value  \n",
       "0                                 1  \n",
       "1                                 1  \n",
       "2                                 0  \n",
       "3                                 0  \n",
       "4                                 0  \n",
       "...                             ...  \n",
       "22646                             1  \n",
       "22647                             1  \n",
       "22648                             1  \n",
       "22649                             1  \n",
       "22650                             1  \n",
       "\n",
       "[22536 rows x 17 columns]"
      ]
     },
     "execution_count": 31,
     "metadata": {},
     "output_type": "execute_result"
    }
   ],
   "source": [
    "df"
   ]
  },
  {
   "cell_type": "code",
   "execution_count": 32,
   "id": "b731df39",
   "metadata": {},
   "outputs": [],
   "source": [
    "df['Sale_Price_Compared_To_Value']=df['Sale_Price_Compared_To_Value'].replace(\"Under\",0).replace(\"Over\",1) "
   ]
  },
  {
   "cell_type": "code",
   "execution_count": 33,
   "id": "19fa3aa3",
   "metadata": {},
   "outputs": [
    {
     "data": {
      "text/plain": [
       "1    16979\n",
       "0     5557\n",
       "Name: Sale_Price_Compared_To_Value, dtype: int64"
      ]
     },
     "execution_count": 33,
     "metadata": {},
     "output_type": "execute_result"
    }
   ],
   "source": [
    "df['Sale_Price_Compared_To_Value'].value_counts()"
   ]
  },
  {
   "cell_type": "code",
   "execution_count": 34,
   "id": "f6d4e82f",
   "metadata": {},
   "outputs": [],
   "source": [
    "new_df = pd.get_dummies(df,columns=['Land_Use','Sold_As_Vacant','Multiple_Parcels_Involved_in_Sale','Tax_District','Exterior_Wall','Grade','Foundation_Type'])"
   ]
  },
  {
   "cell_type": "code",
   "execution_count": 35,
   "id": "04e483a8",
   "metadata": {
    "scrolled": true
   },
   "outputs": [
    {
     "data": {
      "text/html": [
       "<div>\n",
       "<style scoped>\n",
       "    .dataframe tbody tr th:only-of-type {\n",
       "        vertical-align: middle;\n",
       "    }\n",
       "\n",
       "    .dataframe tbody tr th {\n",
       "        vertical-align: top;\n",
       "    }\n",
       "\n",
       "    .dataframe thead th {\n",
       "        text-align: right;\n",
       "    }\n",
       "</style>\n",
       "<table border=\"1\" class=\"dataframe\">\n",
       "  <thead>\n",
       "    <tr style=\"text-align: right;\">\n",
       "      <th></th>\n",
       "      <th>Acreage</th>\n",
       "      <th>Neighborhood</th>\n",
       "      <th>Land_Value</th>\n",
       "      <th>Building_Value</th>\n",
       "      <th>Finished_Area</th>\n",
       "      <th>Year_Built</th>\n",
       "      <th>Bedrooms</th>\n",
       "      <th>Full_Bath</th>\n",
       "      <th>Half_Bath</th>\n",
       "      <th>Sale_Price_Compared_To_Value</th>\n",
       "      <th>...</th>\n",
       "      <th>Grade_E</th>\n",
       "      <th>Grade_OFB</th>\n",
       "      <th>Grade_SSC</th>\n",
       "      <th>Grade_X</th>\n",
       "      <th>Foundation_Type_CRAWL</th>\n",
       "      <th>Foundation_Type_FULL BSMT</th>\n",
       "      <th>Foundation_Type_PIERS</th>\n",
       "      <th>Foundation_Type_PT BSMT</th>\n",
       "      <th>Foundation_Type_SLAB</th>\n",
       "      <th>Foundation_Type_TYPICAL</th>\n",
       "    </tr>\n",
       "  </thead>\n",
       "  <tbody>\n",
       "    <tr>\n",
       "      <th>0</th>\n",
       "      <td>0.17</td>\n",
       "      <td>3127</td>\n",
       "      <td>32000</td>\n",
       "      <td>134400</td>\n",
       "      <td>1149.00000</td>\n",
       "      <td>1941</td>\n",
       "      <td>2.0</td>\n",
       "      <td>1.0</td>\n",
       "      <td>0.0</td>\n",
       "      <td>1</td>\n",
       "      <td>...</td>\n",
       "      <td>0</td>\n",
       "      <td>0</td>\n",
       "      <td>0</td>\n",
       "      <td>0</td>\n",
       "      <td>0</td>\n",
       "      <td>0</td>\n",
       "      <td>0</td>\n",
       "      <td>1</td>\n",
       "      <td>0</td>\n",
       "      <td>0</td>\n",
       "    </tr>\n",
       "    <tr>\n",
       "      <th>1</th>\n",
       "      <td>0.11</td>\n",
       "      <td>9126</td>\n",
       "      <td>34000</td>\n",
       "      <td>157800</td>\n",
       "      <td>2090.82495</td>\n",
       "      <td>2000</td>\n",
       "      <td>3.0</td>\n",
       "      <td>2.0</td>\n",
       "      <td>1.0</td>\n",
       "      <td>1</td>\n",
       "      <td>...</td>\n",
       "      <td>0</td>\n",
       "      <td>0</td>\n",
       "      <td>0</td>\n",
       "      <td>0</td>\n",
       "      <td>0</td>\n",
       "      <td>0</td>\n",
       "      <td>0</td>\n",
       "      <td>0</td>\n",
       "      <td>1</td>\n",
       "      <td>0</td>\n",
       "    </tr>\n",
       "    <tr>\n",
       "      <th>2</th>\n",
       "      <td>0.17</td>\n",
       "      <td>3130</td>\n",
       "      <td>25000</td>\n",
       "      <td>243700</td>\n",
       "      <td>2145.60001</td>\n",
       "      <td>1948</td>\n",
       "      <td>4.0</td>\n",
       "      <td>2.0</td>\n",
       "      <td>0.0</td>\n",
       "      <td>0</td>\n",
       "      <td>...</td>\n",
       "      <td>0</td>\n",
       "      <td>0</td>\n",
       "      <td>0</td>\n",
       "      <td>0</td>\n",
       "      <td>0</td>\n",
       "      <td>1</td>\n",
       "      <td>0</td>\n",
       "      <td>0</td>\n",
       "      <td>0</td>\n",
       "      <td>0</td>\n",
       "    </tr>\n",
       "    <tr>\n",
       "      <th>3</th>\n",
       "      <td>0.34</td>\n",
       "      <td>3130</td>\n",
       "      <td>25000</td>\n",
       "      <td>138100</td>\n",
       "      <td>1969.00000</td>\n",
       "      <td>1910</td>\n",
       "      <td>2.0</td>\n",
       "      <td>1.0</td>\n",
       "      <td>0.0</td>\n",
       "      <td>0</td>\n",
       "      <td>...</td>\n",
       "      <td>0</td>\n",
       "      <td>0</td>\n",
       "      <td>0</td>\n",
       "      <td>0</td>\n",
       "      <td>1</td>\n",
       "      <td>0</td>\n",
       "      <td>0</td>\n",
       "      <td>0</td>\n",
       "      <td>0</td>\n",
       "      <td>0</td>\n",
       "    </tr>\n",
       "    <tr>\n",
       "      <th>4</th>\n",
       "      <td>0.17</td>\n",
       "      <td>3130</td>\n",
       "      <td>25000</td>\n",
       "      <td>86100</td>\n",
       "      <td>1037.00000</td>\n",
       "      <td>1945</td>\n",
       "      <td>2.0</td>\n",
       "      <td>1.0</td>\n",
       "      <td>0.0</td>\n",
       "      <td>0</td>\n",
       "      <td>...</td>\n",
       "      <td>0</td>\n",
       "      <td>0</td>\n",
       "      <td>0</td>\n",
       "      <td>0</td>\n",
       "      <td>1</td>\n",
       "      <td>0</td>\n",
       "      <td>0</td>\n",
       "      <td>0</td>\n",
       "      <td>0</td>\n",
       "      <td>0</td>\n",
       "    </tr>\n",
       "    <tr>\n",
       "      <th>...</th>\n",
       "      <td>...</td>\n",
       "      <td>...</td>\n",
       "      <td>...</td>\n",
       "      <td>...</td>\n",
       "      <td>...</td>\n",
       "      <td>...</td>\n",
       "      <td>...</td>\n",
       "      <td>...</td>\n",
       "      <td>...</td>\n",
       "      <td>...</td>\n",
       "      <td>...</td>\n",
       "      <td>...</td>\n",
       "      <td>...</td>\n",
       "      <td>...</td>\n",
       "      <td>...</td>\n",
       "      <td>...</td>\n",
       "      <td>...</td>\n",
       "      <td>...</td>\n",
       "      <td>...</td>\n",
       "      <td>...</td>\n",
       "      <td>...</td>\n",
       "    </tr>\n",
       "    <tr>\n",
       "      <th>22646</th>\n",
       "      <td>0.38</td>\n",
       "      <td>6328</td>\n",
       "      <td>25000</td>\n",
       "      <td>105000</td>\n",
       "      <td>1758.00000</td>\n",
       "      <td>1996</td>\n",
       "      <td>3.0</td>\n",
       "      <td>2.0</td>\n",
       "      <td>0.0</td>\n",
       "      <td>1</td>\n",
       "      <td>...</td>\n",
       "      <td>0</td>\n",
       "      <td>0</td>\n",
       "      <td>0</td>\n",
       "      <td>0</td>\n",
       "      <td>1</td>\n",
       "      <td>0</td>\n",
       "      <td>0</td>\n",
       "      <td>0</td>\n",
       "      <td>0</td>\n",
       "      <td>0</td>\n",
       "    </tr>\n",
       "    <tr>\n",
       "      <th>22647</th>\n",
       "      <td>0.27</td>\n",
       "      <td>6328</td>\n",
       "      <td>25000</td>\n",
       "      <td>142400</td>\n",
       "      <td>2421.00000</td>\n",
       "      <td>1996</td>\n",
       "      <td>3.0</td>\n",
       "      <td>3.0</td>\n",
       "      <td>0.0</td>\n",
       "      <td>1</td>\n",
       "      <td>...</td>\n",
       "      <td>0</td>\n",
       "      <td>0</td>\n",
       "      <td>0</td>\n",
       "      <td>0</td>\n",
       "      <td>0</td>\n",
       "      <td>0</td>\n",
       "      <td>0</td>\n",
       "      <td>0</td>\n",
       "      <td>1</td>\n",
       "      <td>0</td>\n",
       "    </tr>\n",
       "    <tr>\n",
       "      <th>22648</th>\n",
       "      <td>0.23</td>\n",
       "      <td>6328</td>\n",
       "      <td>25000</td>\n",
       "      <td>159300</td>\n",
       "      <td>3117.00000</td>\n",
       "      <td>1995</td>\n",
       "      <td>3.0</td>\n",
       "      <td>3.0</td>\n",
       "      <td>0.0</td>\n",
       "      <td>1</td>\n",
       "      <td>...</td>\n",
       "      <td>0</td>\n",
       "      <td>0</td>\n",
       "      <td>0</td>\n",
       "      <td>0</td>\n",
       "      <td>0</td>\n",
       "      <td>0</td>\n",
       "      <td>0</td>\n",
       "      <td>0</td>\n",
       "      <td>1</td>\n",
       "      <td>0</td>\n",
       "    </tr>\n",
       "    <tr>\n",
       "      <th>22649</th>\n",
       "      <td>0.15</td>\n",
       "      <td>126</td>\n",
       "      <td>40000</td>\n",
       "      <td>204100</td>\n",
       "      <td>1637.00000</td>\n",
       "      <td>2004</td>\n",
       "      <td>3.0</td>\n",
       "      <td>2.0</td>\n",
       "      <td>1.0</td>\n",
       "      <td>1</td>\n",
       "      <td>...</td>\n",
       "      <td>0</td>\n",
       "      <td>0</td>\n",
       "      <td>0</td>\n",
       "      <td>0</td>\n",
       "      <td>1</td>\n",
       "      <td>0</td>\n",
       "      <td>0</td>\n",
       "      <td>0</td>\n",
       "      <td>0</td>\n",
       "      <td>0</td>\n",
       "    </tr>\n",
       "    <tr>\n",
       "      <th>22650</th>\n",
       "      <td>0.19</td>\n",
       "      <td>126</td>\n",
       "      <td>40000</td>\n",
       "      <td>295900</td>\n",
       "      <td>2478.00000</td>\n",
       "      <td>2005</td>\n",
       "      <td>4.0</td>\n",
       "      <td>3.0</td>\n",
       "      <td>1.0</td>\n",
       "      <td>1</td>\n",
       "      <td>...</td>\n",
       "      <td>0</td>\n",
       "      <td>0</td>\n",
       "      <td>0</td>\n",
       "      <td>0</td>\n",
       "      <td>1</td>\n",
       "      <td>0</td>\n",
       "      <td>0</td>\n",
       "      <td>0</td>\n",
       "      <td>0</td>\n",
       "      <td>0</td>\n",
       "    </tr>\n",
       "  </tbody>\n",
       "</table>\n",
       "<p>22536 rows × 48 columns</p>\n",
       "</div>"
      ],
      "text/plain": [
       "       Acreage  Neighborhood  Land_Value  Building_Value  Finished_Area  \\\n",
       "0         0.17          3127       32000          134400     1149.00000   \n",
       "1         0.11          9126       34000          157800     2090.82495   \n",
       "2         0.17          3130       25000          243700     2145.60001   \n",
       "3         0.34          3130       25000          138100     1969.00000   \n",
       "4         0.17          3130       25000           86100     1037.00000   \n",
       "...        ...           ...         ...             ...            ...   \n",
       "22646     0.38          6328       25000          105000     1758.00000   \n",
       "22647     0.27          6328       25000          142400     2421.00000   \n",
       "22648     0.23          6328       25000          159300     3117.00000   \n",
       "22649     0.15           126       40000          204100     1637.00000   \n",
       "22650     0.19           126       40000          295900     2478.00000   \n",
       "\n",
       "       Year_Built  Bedrooms  Full_Bath  Half_Bath  \\\n",
       "0            1941       2.0        1.0        0.0   \n",
       "1            2000       3.0        2.0        1.0   \n",
       "2            1948       4.0        2.0        0.0   \n",
       "3            1910       2.0        1.0        0.0   \n",
       "4            1945       2.0        1.0        0.0   \n",
       "...           ...       ...        ...        ...   \n",
       "22646        1996       3.0        2.0        0.0   \n",
       "22647        1996       3.0        3.0        0.0   \n",
       "22648        1995       3.0        3.0        0.0   \n",
       "22649        2004       3.0        2.0        1.0   \n",
       "22650        2005       4.0        3.0        1.0   \n",
       "\n",
       "       Sale_Price_Compared_To_Value  ...  Grade_E     Grade_OFB   Grade_SSC   \\\n",
       "0                                 1  ...           0           0           0   \n",
       "1                                 1  ...           0           0           0   \n",
       "2                                 0  ...           0           0           0   \n",
       "3                                 0  ...           0           0           0   \n",
       "4                                 0  ...           0           0           0   \n",
       "...                             ...  ...         ...         ...         ...   \n",
       "22646                             1  ...           0           0           0   \n",
       "22647                             1  ...           0           0           0   \n",
       "22648                             1  ...           0           0           0   \n",
       "22649                             1  ...           0           0           0   \n",
       "22650                             1  ...           0           0           0   \n",
       "\n",
       "       Grade_X     Foundation_Type_CRAWL  Foundation_Type_FULL BSMT  \\\n",
       "0               0                      0                          0   \n",
       "1               0                      0                          0   \n",
       "2               0                      0                          1   \n",
       "3               0                      1                          0   \n",
       "4               0                      1                          0   \n",
       "...           ...                    ...                        ...   \n",
       "22646           0                      1                          0   \n",
       "22647           0                      0                          0   \n",
       "22648           0                      0                          0   \n",
       "22649           0                      1                          0   \n",
       "22650           0                      1                          0   \n",
       "\n",
       "       Foundation_Type_PIERS  Foundation_Type_PT BSMT  Foundation_Type_SLAB  \\\n",
       "0                          0                        1                     0   \n",
       "1                          0                        0                     1   \n",
       "2                          0                        0                     0   \n",
       "3                          0                        0                     0   \n",
       "4                          0                        0                     0   \n",
       "...                      ...                      ...                   ...   \n",
       "22646                      0                        0                     0   \n",
       "22647                      0                        0                     1   \n",
       "22648                      0                        0                     1   \n",
       "22649                      0                        0                     0   \n",
       "22650                      0                        0                     0   \n",
       "\n",
       "       Foundation_Type_TYPICAL  \n",
       "0                            0  \n",
       "1                            0  \n",
       "2                            0  \n",
       "3                            0  \n",
       "4                            0  \n",
       "...                        ...  \n",
       "22646                        0  \n",
       "22647                        0  \n",
       "22648                        0  \n",
       "22649                        0  \n",
       "22650                        0  \n",
       "\n",
       "[22536 rows x 48 columns]"
      ]
     },
     "execution_count": 35,
     "metadata": {},
     "output_type": "execute_result"
    }
   ],
   "source": [
    "new_df"
   ]
  },
  {
   "cell_type": "code",
   "execution_count": 36,
   "id": "1c80a34b",
   "metadata": {},
   "outputs": [],
   "source": [
    "y=new_df['Sale_Price_Compared_To_Value']\n",
    "x=new_df.drop('Sale_Price_Compared_To_Value',axis=1) "
   ]
  },
  {
   "cell_type": "code",
   "execution_count": 37,
   "id": "13a2990e",
   "metadata": {},
   "outputs": [
    {
     "data": {
      "text/plain": [
       "(22536,)"
      ]
     },
     "execution_count": 37,
     "metadata": {},
     "output_type": "execute_result"
    }
   ],
   "source": [
    "y.shape"
   ]
  },
  {
   "cell_type": "code",
   "execution_count": 38,
   "id": "5c0a3783",
   "metadata": {},
   "outputs": [],
   "source": [
    "x_train,x_test,y_train,y_test = train_test_split(x,y,test_size=.30, random_state=123)"
   ]
  },
  {
   "cell_type": "markdown",
   "id": "e6948d41",
   "metadata": {},
   "source": [
    "### Logistics Regression"
   ]
  },
  {
   "cell_type": "code",
   "execution_count": 39,
   "id": "94c7e19f",
   "metadata": {},
   "outputs": [],
   "source": [
    "logistic_reg = LogisticRegression()\n",
    "model=logistic_reg.fit(x_train,y_train)"
   ]
  },
  {
   "cell_type": "code",
   "execution_count": 40,
   "id": "99fcacec",
   "metadata": {},
   "outputs": [
    {
     "name": "stdout",
     "output_type": "stream",
     "text": [
      "Accuracy of the model is:0.75891\n"
     ]
    }
   ],
   "source": [
    "pred= model.predict(x_test)\n",
    "print('Accuracy of the model is:{:.5f}'.format(model.score(x_test, y_test)))"
   ]
  },
  {
   "cell_type": "code",
   "execution_count": 41,
   "id": "8386ff20",
   "metadata": {},
   "outputs": [
    {
     "name": "stdout",
     "output_type": "stream",
     "text": [
      "Precision: 0.7594353640416047\n",
      "Recall: 0.9978524014057009\n"
     ]
    }
   ],
   "source": [
    "print(\"Precision:\",metrics.precision_score(y_test,pred))\n",
    "print(\"Recall:\",metrics.recall_score(y_test,pred))"
   ]
  },
  {
   "cell_type": "code",
   "execution_count": 42,
   "id": "e8b17314",
   "metadata": {
    "scrolled": true
   },
   "outputs": [
    {
     "data": {
      "image/png": "[encoded data removed]",
      "text/plain": [
       "<Figure size 432x288 with 2 Axes>"
      ]
     },
     "metadata": {
      "needs_background": "light"
     },
     "output_type": "display_data"
    }
   ],
   "source": [
    "plot_confusion_matrix(logistic_reg,x_test, y_test,cmap='Greens')  \n",
    "plt.show()"
   ]
  },
  {
   "cell_type": "markdown",
   "id": "8aef7498",
   "metadata": {},
   "source": [
    "### Decison Tree"
   ]
  },
  {
   "cell_type": "code",
   "execution_count": 43,
   "id": "336bc795",
   "metadata": {},
   "outputs": [
    {
     "data": {
      "text/plain": [
       "DecisionTreeClassifier(max_depth=4, min_samples_leaf=5, random_state=42)"
      ]
     },
     "execution_count": 43,
     "metadata": {},
     "output_type": "execute_result"
    }
   ],
   "source": [
    "dt_model = DecisionTreeClassifier(criterion=\"gini\", random_state=42,max_depth=4, min_samples_leaf=5)   \n",
    "dt_model.fit(x_train,y_train)"
   ]
  },
  {
   "cell_type": "code",
   "execution_count": 44,
   "id": "29502c17",
   "metadata": {},
   "outputs": [],
   "source": [
    "dt_pred = dt_model.predict(x_test)"
   ]
  },
  {
   "cell_type": "code",
   "execution_count": 45,
   "id": "af820118",
   "metadata": {},
   "outputs": [],
   "source": [
    "acc_score = accuracy_score(y_test,dt_pred)"
   ]
  },
  {
   "cell_type": "code",
   "execution_count": 46,
   "id": "433d1f6a",
   "metadata": {},
   "outputs": [
    {
     "data": {
      "text/plain": [
       "0.7649755953261352"
      ]
     },
     "execution_count": 46,
     "metadata": {},
     "output_type": "execute_result"
    }
   ],
   "source": [
    "acc_score"
   ]
  },
  {
   "cell_type": "code",
   "execution_count": 47,
   "id": "c3754300",
   "metadata": {
    "scrolled": false
   },
   "outputs": [
    {
     "name": "stdout",
     "output_type": "stream",
     "text": [
      "[[  73 1566]\n",
      " [  23 5099]]\n",
      "              precision    recall  f1-score   support\n",
      "\n",
      "           0       0.76      0.04      0.08      1639\n",
      "           1       0.77      1.00      0.87      5122\n",
      "\n",
      "    accuracy                           0.76      6761\n",
      "   macro avg       0.76      0.52      0.47      6761\n",
      "weighted avg       0.76      0.76      0.68      6761\n",
      "\n"
     ]
    }
   ],
   "source": [
    "from sklearn.metrics import classification_report, confusion_matrix\n",
    "print(confusion_matrix(y_test, dt_pred))\n",
    "print(classification_report(y_test, dt_pred))"
   ]
  },
  {
   "cell_type": "code",
   "execution_count": 48,
   "id": "4f5f501c",
   "metadata": {},
   "outputs": [
    {
     "data": {
      "text/plain": [
       "[(0.0, 2.0), (30.0, 50.0)]"
      ]
     },
     "execution_count": 48,
     "metadata": {},
     "output_type": "execute_result"
    },
    {
     "data": {
      "image/png": "[encoded data removed]",
      "text/plain": [
       "<Figure size 360x288 with 1 Axes>"
      ]
     },
     "metadata": {
      "needs_background": "light"
     },
     "output_type": "display_data"
    }
   ],
   "source": [
    "importances = dt_model.feature_importances_\n",
    "\n",
    "indices = np.argsort(importances)\n",
    "\n",
    "fig, ax = plt.subplots(figsize=[5, 4])\n",
    "ax.barh(range(len(importances)), importances[indices])\n",
    "ax.set_yticks(range(len(importances)))\n",
    "_ = ax.set_yticklabels(np.array(x_train.columns)[indices])\n",
    "ax.set(xlim=(0, 2),ylim=(30, 50))"
   ]
  },
  {
   "cell_type": "markdown",
   "id": "407ce973",
   "metadata": {},
   "source": [
    "### Random Forest"
   ]
  },
  {
   "cell_type": "code",
   "execution_count": 49,
   "id": "36851bc8",
   "metadata": {},
   "outputs": [
    {
     "data": {
      "text/plain": [
       "RandomForestClassifier(max_depth=4, random_state=42)"
      ]
     },
     "execution_count": 49,
     "metadata": {},
     "output_type": "execute_result"
    }
   ],
   "source": [
    "from sklearn.ensemble import RandomForestClassifier\n",
    "rf_model = RandomForestClassifier(random_state=42,max_depth=4)   \n",
    "rf_model.fit(x_train,y_train)"
   ]
  },
  {
   "cell_type": "code",
   "execution_count": 50,
   "id": "ce0eb74f",
   "metadata": {},
   "outputs": [],
   "source": [
    "rf_pred = rf_model.predict(x_test)"
   ]
  },
  {
   "cell_type": "code",
   "execution_count": 51,
   "id": "16934d56",
   "metadata": {},
   "outputs": [
    {
     "data": {
      "text/plain": [
       "0.7615737316964946"
      ]
     },
     "execution_count": 51,
     "metadata": {},
     "output_type": "execute_result"
    }
   ],
   "source": [
    "accuracy_score(y_test,rf_pred)"
   ]
  },
  {
   "cell_type": "code",
   "execution_count": 52,
   "id": "d742add1",
   "metadata": {},
   "outputs": [
    {
     "name": "stdout",
     "output_type": "stream",
     "text": [
      "[[  33 1606]\n",
      " [   6 5116]]\n",
      "              precision    recall  f1-score   support\n",
      "\n",
      "           0       0.85      0.02      0.04      1639\n",
      "           1       0.76      1.00      0.86      5122\n",
      "\n",
      "    accuracy                           0.76      6761\n",
      "   macro avg       0.80      0.51      0.45      6761\n",
      "weighted avg       0.78      0.76      0.66      6761\n",
      "\n"
     ]
    }
   ],
   "source": [
    "print(confusion_matrix(y_test, rf_pred))\n",
    "print(classification_report(y_test, rf_pred))"
   ]
  },
  {
   "cell_type": "code",
   "execution_count": 53,
   "id": "fd876fde",
   "metadata": {},
   "outputs": [
    {
     "data": {
      "text/plain": [
       "[(0.0, 2.0), (30.0, 50.0)]"
      ]
     },
     "execution_count": 53,
     "metadata": {},
     "output_type": "execute_result"
    },
    {
     "data": {
      "image/png": "[encoded data removed]",
      "text/plain": [
       "<Figure size 432x288 with 1 Axes>"
      ]
     },
     "metadata": {
      "needs_background": "light"
     },
     "output_type": "display_data"
    }
   ],
   "source": [
    "importances = rf_model.feature_importances_\n",
    "\n",
    "indices = np.argsort(importances)\n",
    "\n",
    "fig, ax = plt.subplots()\n",
    "ax.barh(range(len(importances)), importances[indices])\n",
    "ax.set_yticks(range(len(importances)))\n",
    "_ = ax.set_yticklabels(np.array(x_train.columns)[indices])\n",
    "ax.set(xlim=(0, 2),ylim=(30, 50))"
   ]
  },
  {
   "cell_type": "markdown",
   "id": "fc174601",
   "metadata": {},
   "source": [
    "### Gradient Boosting"
   ]
  },
  {
   "cell_type": "code",
   "execution_count": 54,
   "id": "7bdf6126",
   "metadata": {},
   "outputs": [
    {
     "data": {
      "text/plain": [
       "GradientBoostingClassifier(max_depth=4, random_state=42)"
      ]
     },
     "execution_count": 54,
     "metadata": {},
     "output_type": "execute_result"
    }
   ],
   "source": [
    "from sklearn.ensemble import GradientBoostingClassifier\n",
    "gb_model = GradientBoostingClassifier(random_state=42,max_depth=4)   \n",
    "gb_model.fit(x_train,y_train)"
   ]
  },
  {
   "cell_type": "code",
   "execution_count": 55,
   "id": "12e7f73a",
   "metadata": {},
   "outputs": [
    {
     "data": {
      "text/plain": [
       "0.76260908149682"
      ]
     },
     "execution_count": 55,
     "metadata": {},
     "output_type": "execute_result"
    }
   ],
   "source": [
    "gb_pred = gb_model.predict(x_test)\n",
    "accuracy_score(y_test,gb_pred)"
   ]
  },
  {
   "cell_type": "code",
   "execution_count": 56,
   "id": "9fa1b1e7",
   "metadata": {},
   "outputs": [
    {
     "name": "stdout",
     "output_type": "stream",
     "text": [
      "[[ 111 1528]\n",
      " [  77 5045]]\n",
      "              precision    recall  f1-score   support\n",
      "\n",
      "           0       0.59      0.07      0.12      1639\n",
      "           1       0.77      0.98      0.86      5122\n",
      "\n",
      "    accuracy                           0.76      6761\n",
      "   macro avg       0.68      0.53      0.49      6761\n",
      "weighted avg       0.72      0.76      0.68      6761\n",
      "\n"
     ]
    }
   ],
   "source": [
    "print(confusion_matrix(y_test, gb_pred))\n",
    "print(classification_report(y_test, gb_pred))"
   ]
  },
  {
   "cell_type": "code",
   "execution_count": 57,
   "id": "76a3861c",
   "metadata": {},
   "outputs": [
    {
     "data": {
      "text/plain": [
       "[(0.0, 2.0), (30.0, 50.0)]"
      ]
     },
     "execution_count": 57,
     "metadata": {},
     "output_type": "execute_result"
    },
    {
     "data": {
      "image/png": "[encoded data removed]",
      "text/plain": [
       "<Figure size 432x288 with 1 Axes>"
      ]
     },
     "metadata": {
      "needs_background": "light"
     },
     "output_type": "display_data"
    }
   ],
   "source": [
    "importances = gb_model.feature_importances_\n",
    "\n",
    "indices = np.argsort(importances)\n",
    "\n",
    "fig, ax = plt.subplots()\n",
    "ax.barh(range(len(importances)), importances[indices])\n",
    "ax.set_yticks(range(len(importances)))\n",
    "_ = ax.set_yticklabels(np.array(x_train.columns)[indices])\n",
    "ax.set(xlim=(0, 2),ylim=(30, 50))"
   ]
  }
 ],
 "metadata": {
  "kernelspec": {
   "display_name": "Python 3 (ipykernel)",
   "language": "python",
   "name": "python3"
  },
  "language_info": {
   "codemirror_mode": {
    "name": "ipython",
    "version": 3
   },
   "file_extension": ".py",
   "mimetype": "text/x-python",
   "name": "python",
   "nbconvert_exporter": "python",
   "pygments_lexer": "ipython3",
   "version": "3.9.7"
  }
 },
 "nbformat": 4,
 "nbformat_minor": 5
}
